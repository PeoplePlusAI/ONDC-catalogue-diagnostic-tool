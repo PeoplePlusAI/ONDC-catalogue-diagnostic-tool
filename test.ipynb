{
 "cells": [
  {
   "cell_type": "code",
   "execution_count": 3,
   "metadata": {},
   "outputs": [],
   "source": [
    "import pandas as pd\n",
    "\n",
    "file_path = 'data/All-Purpose Cleaners.xlsx'\n",
    "\n",
    "# Read the Excel file\n",
    "df = pd.read_excel(file_path)\n",
    "\n",
    "# Now df is a DataFrame containing the data from your Excel file\n",
    "\n",
    "df_dict = df.to_dict()\n",
    "\n",
    "df.to_csv('data/All-Purpose Cleaners.csv', index=False)\n"
   ]
  },
  {
   "cell_type": "code",
   "execution_count": 15,
   "metadata": {},
   "outputs": [],
   "source": [
    "from openai import OpenAI\n",
    "from dotenv import load_dotenv\n",
    "import os\n",
    "\n",
    "load_dotenv(\n",
    "    dotenv_path='ops/.env',\n",
    ")\n",
    "\n",
    "api_key = os.getenv('OPENAI_API_KEY')\n",
    "\n",
    "client = OpenAI(api_key=api_key)\n",
    "\n"
   ]
  },
  {
   "cell_type": "code",
   "execution_count": 4,
   "metadata": {},
   "outputs": [
    {
     "name": "stdout",
     "output_type": "stream",
     "text": [
      "file-tOeMTvnTeIwv1n4mYa7t3fwf\n"
     ]
    }
   ],
   "source": [
    "file = client.files.create(\n",
    "  file=open(\"data/All-Purpose Cleaners.csv\", \"rb\"),\n",
    "  purpose='assistants'\n",
    ")\n",
    "\n",
    "print(file.id)"
   ]
  },
  {
   "cell_type": "code",
   "execution_count": 5,
   "metadata": {},
   "outputs": [],
   "source": [
    "assistant = client.beta.assistants.create(\n",
    "  instructions=\"You are a data analyst assistant when given a requirement and a csv file analyse the csv file and answer if the requirement is satisfied.\",\n",
    "  model=\"gpt-4-1106-preview\",\n",
    "  tools=[{\"type\": \"code_interpreter\"}],\n",
    "  file_ids=[file.id]\n",
    ")"
   ]
  },
  {
   "cell_type": "code",
   "execution_count": 9,
   "metadata": {},
   "outputs": [],
   "source": [
    "thread = client.beta.threads.create(\n",
    "    messages=[\n",
    "        {\n",
    "            \"role\": \"user\",\n",
    "            \"content\": \"\"\"This is the requirement. 1. Product name must include the brand name, actual name and size of the product as part\n",
    "of the overall name e.g. “LaxmiBhog atta 1KG bag” 2. Every product must have high quality images (preferably 500x500 px) 3. Each product must have meaningful and related short description column and full description column associated\n",
    "with the product 4. Slab options will be shown in a separate slab table for those products who have more than one pricing slab 5. All variants of a product will be shown in a variants section sorted by variant name in a horizontal scrollable section\n",
    "\"\"\", \"file_ids\": [file.id]\n",
    "        }\n",
    "    ]\n",
    ")"
   ]
  },
  {
   "cell_type": "code",
   "execution_count": 10,
   "metadata": {},
   "outputs": [
    {
     "name": "stdout",
     "output_type": "stream",
     "text": [
      "queued\n"
     ]
    }
   ],
   "source": [
    "run = client.beta.threads.runs.create(\n",
    "    thread_id=thread.id,\n",
    "    assistant_id=assistant.id\n",
    ")\n",
    "\n",
    "print(run.status)"
   ]
  },
  {
   "cell_type": "code",
   "execution_count": 12,
   "metadata": {},
   "outputs": [
    {
     "name": "stdout",
     "output_type": "stream",
     "text": [
      "completed\n"
     ]
    }
   ],
   "source": [
    "run = client.beta.threads.runs.retrieve(\n",
    "  thread_id=thread.id,\n",
    "  run_id=run.id\n",
    ")\n",
    "\n",
    "print(run.status)"
   ]
  },
  {
   "cell_type": "code",
   "execution_count": 13,
   "metadata": {},
   "outputs": [
    {
     "name": "stdout",
     "output_type": "stream",
     "text": [
      "Based on the initial analysis of the CSV file, the following observations can be made:\n",
      "\n",
      "1. The `Product Name` includes information that likely corresponds to the brand name, actual name, and size, as products have names like \"Harpic Disinfectant Toilet Cleaner Liquid, Original - 500 ml\" which satisfy the naming convention requirement.\n",
      "2. The products have image URLs provided in numerous 'Images' columns, indicating that high-quality images are potentially present. However, without accessing the actual images, we can't confirm if they are 500x500 pixels as required.\n",
      "3. There are columns that seem to pertain to product descriptions, including 'Product Description', 'Features', 'Specification', and 'About'. Some products have meaningful descriptions, which suggests that the third requirement may be satisfied in at least some cases.\n",
      "\n",
      "The current data provided doesn't directly include information about slab pricing options or a separated section for product variants. Therefore, we cannot confirm if requirements 4 and 5 are met with the currently visible data structure.\n",
      "\n",
      "Would you like to proceed with a more detailed analysis of specific parts of the data or check for additional information that might be present elsewhere in the CSV?\n"
     ]
    }
   ],
   "source": [
    "messages = client.beta.threads.messages.list(\n",
    "    thread_id=thread.id,\n",
    "    )\n",
    "\n",
    "print(messages.data[0].content[0].text.value)"
   ]
  }
 ],
 "metadata": {
  "kernelspec": {
   "display_name": "llm",
   "language": "python",
   "name": "python3"
  },
  "language_info": {
   "codemirror_mode": {
    "name": "ipython",
    "version": 3
   },
   "file_extension": ".py",
   "mimetype": "text/x-python",
   "name": "python",
   "nbconvert_exporter": "python",
   "pygments_lexer": "ipython3",
   "version": "3.10.13"
  }
 },
 "nbformat": 4,
 "nbformat_minor": 2
}

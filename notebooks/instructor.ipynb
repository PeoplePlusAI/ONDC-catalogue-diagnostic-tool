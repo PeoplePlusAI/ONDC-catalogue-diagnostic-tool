{
 "cells": [
  {
   "cell_type": "code",
   "execution_count": 6,
   "metadata": {},
   "outputs": [],
   "source": [
    "data = {'L0 Domain': 'L0 Domain',\n",
    " 'L1 Category': 'L1 Category',\n",
    " 'L2 Category': 'L2 Category',\n",
    " 'L3 Sub-Category': 'L3 Sub-Category',\n",
    " 'L4 Product Enum-Code': 'L4 Product Enum-Code',\n",
    " 'Product Name': 'Product Name',\n",
    " 'Product Quantity': 'Product Quantity',\n",
    " 'UOM': 'UOM',\n",
    " 'MRP': 'MRP',\n",
    " 'Price': 'Price',\n",
    " 'Product Description': 'Product Description',\n",
    " 'SKU Code': 'SKU Code',\n",
    " 'Manufacturer': 'Manufacturer',\n",
    " 'Country Of Origin': 'Country Of Origin',\n",
    " 'Customer Care Contact': 'Customer Care Contact',\n",
    " 'Time to Ship': 'Time to Ship',\n",
    " 'Returnable (Y/N)': 'Returnable (Y/N)',\n",
    " 'Cancellable (Y/N)': 'Cancellable (Y/N)',\n",
    " 'COD available (Y/N)': 'COD available (Y/N)',\n",
    " 'Images': 'Images',\n",
    " 'Net Quantity': 'Net Quantity',\n",
    " 'Brand': 'Brand',\n",
    " 'Pack Quantity': 'Pack Quantity',\n",
    " 'Pack Size': 'Pack Size',\n",
    " 'Images / Video': 'Images / Video',\n",
    " 'UPC/EAN': 'UPC/EAN',\n",
    " 'FSSAI no': 'FSSAI no',\n",
    " 'Preservatives (Y/N)': 'Preservatives (Y/N)',\n",
    " 'Preservatives (details)': 'Preservatives (details)',\n",
    " 'Flavours & Spices': 'Flavours & Spices',\n",
    " 'Ready to cook (Y/N)': 'Ready to cook (Y/N)',\n",
    " 'Ready to eat (Y/N)': 'Ready to eat (Y/N)',\n",
    " 'Rice grain type': 'Rice grain type',\n",
    " 'Recommended Age': 'Recommended Age',\n",
    " 'Scented/ Flavour': 'Scented/ Flavour',\n",
    " 'Herbal/ Ayurvedic': 'Herbal/ Ayurvedic',\n",
    " 'Theme/ Occasion Type': 'Theme/ Occasion Type',\n",
    " 'Hair Type': 'Hair Type',\n",
    " 'Mineral Source': 'Mineral Source',\n",
    " 'Caffeine Content': 'Caffeine Content',\n",
    " 'Capacity': 'Capacity',\n",
    " 'Composition': 'Composition',\n",
    " 'Benefits': 'Benefits',\n",
    " 'Usage': 'Usage',\n",
    " 'Other details': 'Other details',\n",
    " 'Marketed By': 'Marketed By',\n",
    " 'Images 3': 'Images 3',\n",
    " 'Images 4': 'Images 4',\n",
    " 'Images 5': 'Images 5',\n",
    " 'Images 6': 'Images 6',\n",
    " 'Images 7': 'Images 7',\n",
    " 'Images 8': 'Images 8',\n",
    " 'Images 9': 'Images 9',\n",
    " 'Baby Weight': 'Baby Weight',\n",
    " 'Absorption Duration (in Hrs)': 'Absorption Duration (in Hrs)',\n",
    " 'Features': 'Features',\n",
    " 'Images 10': 'Images 10',\n",
    " 'Care Instruction': 'Care Instruction',\n",
    " 'Ingredients': 'Ingredients',\n",
    " 'Specification': 'Specification',\n",
    " 'Package Contains': 'Package Contains',\n",
    " 'About': 'About'}\n",
    "\n",
    "from enum import Enum\n",
    "\n",
    "Columns = Enum('Columns', data)"
   ]
  },
  {
   "cell_type": "code",
   "execution_count": 7,
   "metadata": {},
   "outputs": [],
   "source": [
    "from pydantic import BaseModel\n",
    "from typing import List, Optional, Dict\n",
    "\n",
    "class MultiClassPrediction(BaseModel):\n",
    "    \"\"\"\n",
    "    Class for a multi-class label prediction.\n",
    "    \"\"\"\n",
    "\n",
    "    related_columns: List[Columns]"
   ]
  },
  {
   "cell_type": "code",
   "execution_count": 8,
   "metadata": {},
   "outputs": [],
   "source": [
    "import os\n",
    "from dotenv import load_dotenv\n",
    "\n",
    "load_dotenv(\n",
    "    \"../ops/.env\"\n",
    ")\n",
    "\n",
    "OPENAI_API_KEY = os.getenv(\"OPENAI_API_KEY\")\n",
    "\n",
    "\n",
    "import instructor\n",
    "from openai import OpenAI"
   ]
  },
  {
   "cell_type": "code",
   "execution_count": 25,
   "metadata": {},
   "outputs": [],
   "source": [
    "with open(\"../prompts/column_identifier_prompt.txt\", \"r\") as file:\n",
    "    column_prompt = file.read()\n",
    "\n",
    "with open(\"../prompts/generate_sql_prompt.txt\", \"r\") as file:\n",
    "    sql_prompt = file.read()"
   ]
  },
  {
   "cell_type": "code",
   "execution_count": 10,
   "metadata": {},
   "outputs": [],
   "source": [
    "client = instructor.patch(OpenAI())\n",
    "\n",
    "\n",
    "def multi_classify(data: str) -> MultiClassPrediction:\n",
    "    \"\"\"Perform multi-label classification on the input text.\"\"\"\n",
    "    return client.chat.completions.create(\n",
    "        model=\"gpt-4\",\n",
    "        response_model=MultiClassPrediction,\n",
    "        messages=[\n",
    "            {\n",
    "                \"role\": \"user\",\n",
    "                \"content\": f\"{column_prompt} {data}\",\n",
    "            },\n",
    "        ],\n",
    "    )  # type: ignore"
   ]
  },
  {
   "cell_type": "code",
   "execution_count": 28,
   "metadata": {},
   "outputs": [
    {
     "data": {
      "text/plain": [
       "'{\"related_columns\":[\"Product Name\",\"Product Description\",\"Other details\"]}'"
      ]
     },
     "execution_count": 28,
     "metadata": {},
     "output_type": "execute_result"
    }
   ],
   "source": [
    "result = multi_classify(\"All products should have a product_id, product_name, product_description, and other_details\")\n",
    "result.model_dump_json()"
   ]
  },
  {
   "cell_type": "markdown",
   "metadata": {},
   "source": []
  },
  {
   "cell_type": "code",
   "execution_count": null,
   "metadata": {},
   "outputs": [],
   "source": [
    "import json\n",
    "\n",
    "class SQLQUERYMODEL(BaseModel):\n",
    "    \"\"\"\n",
    "    Class for an SQL QUERY \n",
    "    \"\"\"\n",
    "    queries: List[str]\n",
    "\n",
    "def generate_sql_queries(requirement, column_names, table_name, sql_prompt, client: OpenAI, model: str = \"gpt-4\"):\n",
    "    \"\"\"\n",
    "    Extracts the columns from the requirement\n",
    "    \"\"\"\n",
    "    sql_prompt = sql_prompt.format(\n",
    "        requirement=requirement, \n",
    "        column_names=column_names, \n",
    "        table_name=table_name\n",
    "    )\n",
    "    response = client.chat.completions.create(\n",
    "        model=model,\n",
    "        response_model=SQLQUERYMODEL,\n",
    "        messages=[\n",
    "            {\n",
    "                \"role\": \"user\",\n",
    "                \"content\": sql_prompt,\n",
    "            },\n",
    "        ],\n",
    "    )\n",
    "    return json.loads(response.model_dump_json())\n",
    "    \n",
    "generate_sql_queries(\"All products should have four image columns\", \"Images 1, Images 2, Images 3, Images 4\", \"products\", sql_prompt, client)"
   ]
  }
 ],
 "metadata": {
  "kernelspec": {
   "display_name": "llm",
   "language": "python",
   "name": "python3"
  },
  "language_info": {
   "codemirror_mode": {
    "name": "ipython",
    "version": 3
   },
   "file_extension": ".py",
   "mimetype": "text/x-python",
   "name": "python",
   "nbconvert_exporter": "python",
   "pygments_lexer": "ipython3",
   "version": "3.10.13"
  }
 },
 "nbformat": 4,
 "nbformat_minor": 2
}

{
 "cells": [
  {
   "cell_type": "code",
   "execution_count": null,
   "metadata": {},
   "outputs": [],
   "source": [
    "import pandas as pd\n",
    "\n",
    "df = pd.read_csv(\n",
    "    \"../data/All-Purpose Cleaners.csv\"\n",
    ")\n",
    "df.fillna(\"\")\n"
   ]
  },
  {
   "cell_type": "code",
   "execution_count": 9,
   "metadata": {},
   "outputs": [
    {
     "data": {
      "text/plain": [
       "['L0 Domain',\n",
       " 'L1 Category',\n",
       " 'L2 Category',\n",
       " 'L3 Sub-Category',\n",
       " 'L4 Product Enum-Code',\n",
       " 'Product Name',\n",
       " 'Product Quantity',\n",
       " 'UOM',\n",
       " 'MRP',\n",
       " 'Price',\n",
       " 'Product Description',\n",
       " 'SKU Code',\n",
       " 'Manufacturer',\n",
       " 'Country Of Origin',\n",
       " 'Customer Care Contact',\n",
       " 'Time to Ship',\n",
       " 'Returnable (Y/N)',\n",
       " 'Cancellable (Y/N)',\n",
       " 'COD available (Y/N)',\n",
       " 'Images',\n",
       " 'Net Quantity',\n",
       " 'Brand',\n",
       " 'Pack Quantity',\n",
       " 'Pack Size',\n",
       " 'Images / Video',\n",
       " 'UPC/EAN',\n",
       " 'FSSAI no',\n",
       " 'Preservatives (Y/N)',\n",
       " 'Preservatives (details)',\n",
       " 'Flavours & Spices',\n",
       " 'Ready to cook (Y/N)',\n",
       " 'Ready to eat (Y/N)',\n",
       " 'Rice grain type',\n",
       " 'Recommended Age',\n",
       " 'Scented/ Flavour',\n",
       " 'Herbal/ Ayurvedic',\n",
       " 'Theme/ Occasion Type',\n",
       " 'Hair Type',\n",
       " 'Mineral Source',\n",
       " 'Caffeine Content',\n",
       " 'Capacity',\n",
       " 'Composition',\n",
       " 'Benefits',\n",
       " 'Usage',\n",
       " 'Other details',\n",
       " 'Marketed By',\n",
       " 'Images 3',\n",
       " 'Images 4',\n",
       " 'Images 5',\n",
       " 'Images 6',\n",
       " 'Images 7',\n",
       " 'Images 8',\n",
       " 'Images 9',\n",
       " 'Baby Weight',\n",
       " 'Absorption Duration (in Hrs)',\n",
       " 'Features',\n",
       " 'Images 10',\n",
       " 'Care Instruction',\n",
       " 'Ingredients',\n",
       " 'Specification',\n",
       " 'Package Contains',\n",
       " 'About']"
      ]
     },
     "execution_count": 9,
     "metadata": {},
     "output_type": "execute_result"
    }
   ],
   "source": [
    "df.columns.tolist()"
   ]
  },
  {
   "cell_type": "code",
   "execution_count": 11,
   "metadata": {},
   "outputs": [],
   "source": [
    "import os\n",
    "import dotenv\n",
    "\n",
    "dotenv.load_dotenv(\n",
    "    \"../ops/.env\"\n",
    ")\n",
    "\n",
    "OPEN_AI_API_KEY = os.getenv(\n",
    "    \"OPEN_AI_API_KEY\"\n",
    ")"
   ]
  },
  {
   "cell_type": "code",
   "execution_count": 12,
   "metadata": {},
   "outputs": [],
   "source": [
    "from llama_index.query_pipeline import (\n",
    "    QueryPipeline as QP,\n",
    "    Link,\n",
    "    InputComponent\n",
    ")\n",
    "from llama_index.query_engine.pandas import PandasInstructionParser\n",
    "from llama_index.llms import OpenAI\n",
    "from llama_index.prompts import PromptTemplate"
   ]
  },
  {
   "cell_type": "code",
   "execution_count": 14,
   "metadata": {},
   "outputs": [],
   "source": [
    "\n",
    "instruction_str = (\n",
    "    \"1. Attempt to find column names related to the query using the dataframe's `df.columns` attribute.\\n\"\n",
    "    \"2. Convert the query to executable Python code using Pandas, The query should first check if related columns are present in the dataframe.\\n\"\n",
    "    \"3. Assuming all required columns are present, proceed to formulate the query using Pandas.\\n\"\n",
    "    \"4. The final line of code should be a Python expression suitable for execution with the `eval()` function, representing the query's solution.\\n\"\n",
    "    \"5. PRINT ONLY THE EXPRESSION or the message about missing columns.\\n\"\n",
    "    \"6. Do not quote the expression or the missing columns message.\\n\"\n",
    ")\n",
    "\n",
    "pandas_prompt_str = (\n",
    "    \"You are working with a pandas dataframe in Python.\\n\"\n",
    "    \"The name of the dataframe is `df`.\\n\"\n",
    "    \"This is the result of `print(df.head())`:\\n\"\n",
    "    \"{df_str}\\n\\n\"\n",
    "    \"Follow these instructions:\\n\"\n",
    "    \"{instruction_str}\\n\"\n",
    "    \"Query: {query_str}\\n\\n\"\n",
    "    \"Expression:\"\n",
    ")\n",
    "\n",
    "\n",
    "\n",
    "response_synthesis_prompt_str = (\n",
    "    \"Given an input question, synthesize a response from the query results in a structured JSON format.\\n\"\n",
    "    \"Query: {query_str}\\n\\n\"\n",
    "    \"Pandas Instructions (optional):\\n{pandas_instructions}\\n\\n\"\n",
    "    \"Pandas Output: {pandas_output}\\n\\n\"\n",
    "    \"Response: Generate a JSON response that includes:\\n\"\n",
    "    \"- A `pass` key indicating if any rows meet the condition (true or false).\\n\"\n",
    ")\n"
   ]
  },
  {
   "cell_type": "code",
   "execution_count": 15,
   "metadata": {},
   "outputs": [],
   "source": [
    "pandas_prompt = PromptTemplate(pandas_prompt_str).partial_format(\n",
    "    instruction_str=instruction_str, df_str=df.head(20)\n",
    ")\n",
    "pandas_output_parser = PandasInstructionParser(df)\n",
    "response_synthesis_prompt = PromptTemplate(response_synthesis_prompt_str)\n",
    "llm = OpenAI(model=\"gpt-3.5-turbo\")"
   ]
  },
  {
   "cell_type": "code",
   "execution_count": 16,
   "metadata": {},
   "outputs": [],
   "source": [
    "qp = QP(\n",
    "    modules={\n",
    "        \"input\": InputComponent(),\n",
    "        \"pandas_prompt\": pandas_prompt,\n",
    "        \"llm1\": llm,\n",
    "        \"pandas_output_parser\": pandas_output_parser,\n",
    "        \"response_synthesis_prompt\": response_synthesis_prompt,\n",
    "        \"llm2\": llm,\n",
    "    },\n",
    "    verbose=True,\n",
    ")\n",
    "qp.add_chain([\"input\", \"pandas_prompt\", \"llm1\", \"pandas_output_parser\"])\n",
    "qp.add_links(\n",
    "    [\n",
    "        Link(\"input\", \"response_synthesis_prompt\", dest_key=\"query_str\"),\n",
    "        Link(\n",
    "            \"llm1\", \"response_synthesis_prompt\", dest_key=\"pandas_instructions\"\n",
    "        ),\n",
    "        Link(\n",
    "            \"pandas_output_parser\",\n",
    "            \"response_synthesis_prompt\",\n",
    "            dest_key=\"pandas_output\",\n",
    "        ),\n",
    "    ]\n",
    ")\n",
    "# add link from response synthesis prompt to llm2\n",
    "qp.add_link(\"response_synthesis_prompt\", \"llm2\")"
   ]
  },
  {
   "cell_type": "code",
   "execution_count": 76,
   "metadata": {},
   "outputs": [
    {
     "name": "stdout",
     "output_type": "stream",
     "text": [
      "\u001b[1;3;38;2;155;135;227m> Running module input with input: \n",
      "query_str: All products must have atleast four image columns\n",
      "\n",
      "\u001b[0m\u001b[1;3;38;2;155;135;227m> Running module pandas_prompt with input: \n",
      "query_str: All products must have atleast four image columns\n",
      "\n",
      "\u001b[0m\u001b[1;3;38;2;155;135;227m> Running module llm1 with input: \n",
      "messages: You are working with a pandas dataframe in Python.\n",
      "The name of the dataframe is `df`.\n",
      "This is the result of `print(df.head())`:\n",
      "   L0 Domain L1 Category L2 Category L3 Sub-Category L4 Product Enum-Cod...\n",
      "\n",
      "\u001b[0m\u001b[1;3;38;2;155;135;227m> Running module pandas_output_parser with input: \n",
      "input: assistant: df.columns[df.columns.str.contains('Images')].size >= 4\n",
      "\n",
      "\u001b[0m\u001b[1;3;38;2;155;135;227m> Running module response_synthesis_prompt with input: \n",
      "query_str: All products must have atleast four image columns\n",
      "pandas_instructions: assistant: df.columns[df.columns.str.contains('Images')].size >= 4\n",
      "pandas_output: True\n",
      "\n",
      "\u001b[0m\u001b[1;3;38;2;155;135;227m> Running module llm2 with input: \n",
      "messages: Given an input question, synthesize a response from the query results in a structured JSON format.\n",
      "Query: All products must have atleast four image columns\n",
      "\n",
      "Pandas Instructions (optional):\n",
      "df.columns[...\n",
      "\n",
      "\u001b[0m"
     ]
    }
   ],
   "source": [
    "response = qp.run(\n",
    "    query_str=\"All products must have atleast four image columns\",\n",
    ")\n"
   ]
  },
  {
   "cell_type": "code",
   "execution_count": 77,
   "metadata": {},
   "outputs": [
    {
     "name": "stdout",
     "output_type": "stream",
     "text": [
      "{\n",
      "  \"pass\": true\n",
      "}\n"
     ]
    }
   ],
   "source": [
    "print(response.message.content)"
   ]
  }
 ],
 "metadata": {
  "kernelspec": {
   "display_name": "llm",
   "language": "python",
   "name": "python3"
  },
  "language_info": {
   "codemirror_mode": {
    "name": "ipython",
    "version": 3
   },
   "file_extension": ".py",
   "mimetype": "text/x-python",
   "name": "python",
   "nbconvert_exporter": "python",
   "pygments_lexer": "ipython3",
   "version": "3.10.13"
  }
 },
 "nbformat": 4,
 "nbformat_minor": 2
}

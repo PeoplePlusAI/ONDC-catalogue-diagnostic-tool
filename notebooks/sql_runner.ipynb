{
 "cells": [
  {
   "cell_type": "code",
   "execution_count": 47,
   "metadata": {},
   "outputs": [
    {
     "name": "stdout",
     "output_type": "stream",
     "text": [
      "False\n",
      "[76, 77, 82, 87, 89, 90, 95, 100, 101, 102, 104, 105, 112, 113, 114, 115, 116, 117, 118, 119, 120, 121, 123, 124, 125, 126, 130, 131, 132, 137, 140, 142, 143, 144, 145, 147, 148, 152, 154, 155, 156, 157, 164, 167, 174, 177, 178, 179, 180, 181, 183, 184, 185, 186, 187, 188, 198, 199, 204, 205, 206, 207, 209, 210, 211, 218, 219, 220, 222, 223, 224, 225, 230, 233, 234, 242, 245, 246, 248, 251, 253, 254, 256, 257, 258, 261, 262, 265, 267, 268, 272, 273, 274, 275, 278, 279, 280, 281, 282, 283, 284, 287, 293, 294, 295, 296, 297, 301, 302, 303, 305, 306, 307, 308, 311, 312, 313, 315, 319, 320, 321, 322, 324, 325, 326, 327, 328, 329, 330, 331, 332, 335, 336, 337, 338, 339, 340, 341, 342, 343, 346, 347, 349, 350, 351, 352, 353, 354, 355, 357, 358, 359, 362, 364, 365, 366, 367, 369, 370, 371, 372, 373, 374, 375, 376, 377, 378, 379, 380, 383, 384, 388, 391, 393, 394, 395, 396, 398, 399, 400, 401, 403, 404, 405, 406, 407, 408, 409, 410, 411, 412, 413, 415, 416, 417, 418, 419, 420, 421, 424, 425, 426, 427, 428, 430, 431, 432, 433, 434, 435, 436, 437, 444, 445, 446, 447, 448, 449, 450, 451, 452, 453, 454, 455, 456, 457, 458, 459, 460, 461, 462, 463, 464, 465, 466, 467, 468, 469, 470, 471, 472, 474, 475, 476, 477, 478, 479, 480, 481, 482, 483, 484, 485, 486, 487, 491, 492, 494, 497, 498, 502, 503, 504, 505, 506, 507, 510, 512, 514, 515, 516, 517, 518, 519, 520, 527, 530, 533, 534, 535, 536, 540, 541, 542, 543, 545, 547, 549, 550, 551, 552, 554, 556, 557, 558, 560, 561, 564, 565, 567, 568, 570, 572, 573, 574, 575, 577, 578, 579]\n"
     ]
    }
   ],
   "source": [
    "import pandas as pd\n",
    "import sqlite3\n",
    "import json\n",
    "\n",
    "\n",
    "def connect_to_database(database_path):\n",
    "    \"\"\"\n",
    "    Connects to the SQLite database and returns the connection object.\n",
    "    \n",
    "    Args:\n",
    "    - database_path: The path to the SQLite database file.\n",
    "    \n",
    "    Returns:\n",
    "    - conn: The connection object.\n",
    "    \"\"\"\n",
    "    conn = sqlite3.connect(database_path)\n",
    "    return conn\n",
    "\n",
    "def import_csv_to_database(csv_file_path, table_name, conn):\n",
    "    \"\"\"\n",
    "    Imports a CSV file into the SQLite database.\n",
    "    \n",
    "    Args:\n",
    "    - csv_file_path: The path to the CSV file.\n",
    "    - table_name: The name of the table to be created in the database.\n",
    "    - conn: The connection object to the SQLite database.\n",
    "    \"\"\"\n",
    "    df = pd.read_csv(csv_file_path)\n",
    "    df.to_sql(table_name, conn, if_exists='replace')\n",
    "    return df\n",
    "\n",
    "def execute_sql_query(query, conn):\n",
    "    \"\"\"\n",
    "    Executes an SQL query on the SQLite database and returns the result as a pandas DataFrame.\n",
    "    \n",
    "    Args:\n",
    "    - query: The SQL query to be executed.\n",
    "    - conn: The connection object to the SQLite database.\n",
    "    \n",
    "    Returns:\n",
    "    - df_query_result: The result of the query as a pandas DataFrame.\n",
    "    \"\"\"\n",
    "    df_query_result = pd.read_sql_query(query, conn)\n",
    "    return json.loads(df_query_result.to_json())\n",
    "\n",
    "def extract_column_query_result(df_query_result):\n",
    "    \"\"\"\n",
    "    Displays the result of an SQL query as JSON.\n",
    "    \n",
    "    Args:\n",
    "    - df_query_result: The result of the query as a pandas DataFrame.\n",
    "    \"\"\"\n",
    "    return eval(list(df_query_result.values())[0].get('0'))\n",
    "    \n",
    "\n",
    "def extract_row_query_result(df_query_result):\n",
    "    \"\"\"\n",
    "    Displays the result of an SQL query as JSON.\n",
    "    \n",
    "    Args:\n",
    "    - df_query_result: The result of the query as a pandas DataFrame.\n",
    "    \"\"\"\n",
    "    return list(df_query_result.get(\"index\").values())\n",
    "\n",
    "\n",
    "csv_file_path = '../data/All-Purpose Cleaners.csv'\n",
    "\n",
    "conn = connect_to_database('../db/my_database.db')\n",
    "df = import_csv_to_database(csv_file_path, 'products', conn)\n",
    "query1 = \"SELECT CASE WHEN COUNT(*) = 4 THEN 'True' ELSE 'False' END FROM pragma_table_info('products') WHERE name IN ('Images 1', 'Images 2', 'Images 3', 'Images 4')\"\n",
    "query2 = \"SELECT * FROM products WHERE `Images 3` IS NULL OR `Images 4` IS NULL OR `Images 5` IS NULL OR `Images 6` IS NULL\"\n",
    "df_query_result = execute_sql_query(query1, conn)\n",
    "print(extract_column_query_result(df_query_result))\n",
    "df_query_result = execute_sql_query(query2, conn)\n",
    "print(extract_row_query_result(df_query_result))\n"
   ]
  }
 ],
 "metadata": {
  "kernelspec": {
   "display_name": "llm",
   "language": "python",
   "name": "python3"
  },
  "language_info": {
   "codemirror_mode": {
    "name": "ipython",
    "version": 3
   },
   "file_extension": ".py",
   "mimetype": "text/x-python",
   "name": "python",
   "nbconvert_exporter": "python",
   "pygments_lexer": "ipython3",
   "version": "3.10.13"
  }
 },
 "nbformat": 4,
 "nbformat_minor": 2
}

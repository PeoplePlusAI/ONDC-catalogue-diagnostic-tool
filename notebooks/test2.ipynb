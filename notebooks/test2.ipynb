{
 "cells": [
  {
   "cell_type": "code",
   "execution_count": 2,
   "metadata": {},
   "outputs": [],
   "source": [
    "import pandas as pd\n",
    "\n",
    "file_path = '../data/All-Purpose Cleaners.xlsx'\n",
    "\n",
    "# Read the Excel file\n",
    "df = pd.read_excel(file_path)"
   ]
  },
  {
   "cell_type": "code",
   "execution_count": 104,
   "metadata": {},
   "outputs": [
    {
     "name": "stdout",
     "output_type": "stream",
     "text": [
      "['L0 Domain', 'L1 Category', 'L2 Category', 'L3 Sub-Category', 'L4 Product Enum-Code', 'Product Name', 'Product Quantity', 'UOM', 'MRP', 'Price', 'Product Description', 'SKU Code', 'Manufacturer', 'Country Of Origin', 'Customer Care Contact', 'Time to Ship', 'Returnable (Y/N)', 'Cancellable (Y/N)', 'COD available (Y/N)', 'Images', 'Net Quantity', 'Brand', 'Pack Quantity', 'Pack Size', 'Images / Video', 'UPC/EAN', 'FSSAI no', 'Preservatives (Y/N)', 'Preservatives (details)', 'Flavours & Spices', 'Ready to cook (Y/N)', 'Ready to eat (Y/N)', 'Rice grain type', 'Recommended Age', 'Scented/ Flavour', 'Herbal/ Ayurvedic', 'Theme/ Occasion Type', 'Hair Type', 'Mineral Source', 'Caffeine Content', 'Capacity', 'Composition', 'Benefits', 'Usage', 'Other details', 'Marketed By', 'Images 3', 'Images 4', 'Images 5', 'Images 6', 'Images 7', 'Images 8', 'Images 9', 'Baby Weight', 'Absorption Duration (in Hrs)', 'Features', 'Images 10', 'Care Instruction', 'Ingredients', 'Specification', 'Package Contains', 'About']\n",
      "62\n"
     ]
    }
   ],
   "source": [
    "columns = df.columns\n",
    "candidate_labels = list(columns)\n",
    "print(candidate_labels)\n",
    "\n",
    "print(len(candidate_labels))"
   ]
  },
  {
   "cell_type": "code",
   "execution_count": 5,
   "metadata": {},
   "outputs": [
    {
     "data": {
      "text/plain": [
       "['Product name must include the brand name, actual name and size of the product as part of the overall name e.g. “LaxmiBhog atta 1KG bag”',\n",
       " 'Every product must have high quality images (preferably 500x500 px)',\n",
       " 'Each product must have meaningful and related short and full description associated with the product',\n",
       " 'Slab options will be shown in a separate slab table for those products who have more than one pricing slab',\n",
       " 'All variants of a product will be shown in a variants section sorted by variant name in a horizontal scrollable section']"
      ]
     },
     "execution_count": 5,
     "metadata": {},
     "output_type": "execute_result"
    }
   ],
   "source": [
    "requirements = \"\"\"Product name must include the brand name, actual name and size of the product as part of the overall name e.g. “LaxmiBhog atta 1KG bag”\n",
    "Every product must have high quality images (preferably 500x500 px)\n",
    "Each product must have meaningful and related short and full description associated with the product\n",
    "Slab options will be shown in a separate slab table for those products who have more than one pricing slab\n",
    "All variants of a product will be shown in a variants section sorted by variant name in a horizontal scrollable section\"\"\"\n",
    "\n",
    "requirements = requirements.split('\\n')\n",
    "requirements"
   ]
  },
  {
   "cell_type": "code",
   "execution_count": 6,
   "metadata": {},
   "outputs": [
    {
     "name": "stderr",
     "output_type": "stream",
     "text": [
      "No model was supplied, defaulted to facebook/bart-large-mnli and revision c626438 (https://huggingface.co/facebook/bart-large-mnli).\n",
      "Using a pipeline without specifying a model name and revision in production is not recommended.\n"
     ]
    },
    {
     "name": "stdout",
     "output_type": "stream",
     "text": [
      "Requirement: Product name must include the brand name, actual name and size of the product as part of the overall name e.g. “LaxmiBhog atta 1KG bag”\n",
      "Labels: ['Product Name', 'Other details', 'Pack Size', 'Product Quantity', 'Brand', 'Pack Quantity', 'Capacity', 'Composition', 'FSSAI no', 'Net Quantity', 'Specification', 'Features', 'Package Contains', 'L0 Domain', 'Images 6', 'Images 4', 'Images', 'Images 5', 'Images 10', 'Product Description', 'Images 9', 'Images 7', 'Images 3', 'Images 8', 'MRP', 'Usage', 'Herbal/ Ayurvedic', 'Marketed By', 'Baby Weight', 'About', 'Scented/ Flavour', 'Benefits', 'L4 Product Enum-Code', 'Price', 'Returnable (Y/N)', 'Manufacturer', 'Hair Type', 'Mineral Source', 'COD available (Y/N)', 'SKU Code', 'Ingredients', 'UOM', 'L1 Category', 'UPC/EAN', 'Recommended Age', 'Caffeine Content', 'Absorption Duration (in Hrs)', 'Care Instruction', 'Preservatives (details)', 'Rice grain type', 'Country Of Origin', 'Cancellable (Y/N)', 'Flavours & Spices', 'Images / Video', 'L2 Category', 'Theme/ Occasion Type', 'Time to Ship', 'Customer Care Contact', 'Ready to cook (Y/N)', 'L3 Sub-Category', 'Ready to eat (Y/N)', 'Preservatives (Y/N)']\n",
      "Scores: [0.17738668620586395, 0.09793314337730408, 0.09508351981639862, 0.08316350728273392, 0.06990175694227219, 0.05233154073357582, 0.04141572490334511, 0.02189800888299942, 0.01978180557489395, 0.017993615940213203, 0.016780292615294456, 0.014786772429943085, 0.014433672651648521, 0.011327519081532955, 0.009552067145705223, 0.00951164960861206, 0.009350843727588654, 0.009261840023100376, 0.009097502566874027, 0.009004231542348862, 0.008957408368587494, 0.008902430534362793, 0.008732693269848824, 0.008622908964753151, 0.008459475822746754, 0.008051405660808086, 0.007947337813675404, 0.007759150117635727, 0.007630401756614447, 0.007351549342274666, 0.006881697103381157, 0.006557696498930454, 0.005917825270444155, 0.005549433641135693, 0.005509551614522934, 0.005265295971184969, 0.0052108317613601685, 0.0050570545718073845, 0.00500501599162817, 0.004524464253336191, 0.004399373196065426, 0.004370689857751131, 0.004285071045160294, 0.004227566998451948, 0.0038600265979766846, 0.00377097399905324, 0.0037598921917378902, 0.0036480086855590343, 0.0036389492452144623, 0.0036072267685085535, 0.003405239898711443, 0.003337363013997674, 0.0032589170150458813, 0.0032420489005744457, 0.0030120760202407837, 0.0028034071438014507, 0.002712260466068983, 0.0025702936109155416, 0.002468656748533249, 0.00222816807217896, 0.002045998116955161, 0.0014585894532501698]\n",
      "\n",
      "\n",
      "Requirement: Every product must have high quality images (preferably 500x500 px)\n",
      "Labels: ['Images', 'Specification', 'Features', 'About', 'Other details', 'Usage', 'Marketed By', 'FSSAI no', 'Recommended Age', 'Returnable (Y/N)', 'Manufacturer', 'Brand', 'Package Contains', 'MRP', 'L0 Domain', 'Images / Video', 'UOM', 'L2 Category', 'UPC/EAN', 'Capacity', 'L1 Category', 'Net Quantity', 'Country Of Origin', 'Pack Quantity', 'Images 6', 'COD available (Y/N)', 'Images 4', 'Price', 'L3 Sub-Category', 'Composition', 'Pack Size', 'L4 Product Enum-Code', 'Images 5', 'Product Quantity', 'Images 3', 'Theme/ Occasion Type', 'Images 7', 'Images 9', 'Images 8', 'Mineral Source', 'Time to Ship', 'Benefits', 'Hair Type', 'Flavours & Spices', 'Images 10', 'SKU Code', 'Product Description', 'Scented/ Flavour', 'Herbal/ Ayurvedic', 'Customer Care Contact', 'Care Instruction', 'Product Name', 'Absorption Duration (in Hrs)', 'Baby Weight', 'Rice grain type', 'Ready to cook (Y/N)', 'Ingredients', 'Caffeine Content', 'Ready to eat (Y/N)', 'Cancellable (Y/N)', 'Preservatives (details)', 'Preservatives (Y/N)']\n",
      "Scores: [0.1522909551858902, 0.051625341176986694, 0.03388578072190285, 0.03184100612998009, 0.029827529564499855, 0.0291871540248394, 0.02831815928220749, 0.02810845524072647, 0.022697031497955322, 0.021144624799489975, 0.020278729498386383, 0.01983165182173252, 0.018206417560577393, 0.017576446756720543, 0.017454728484153748, 0.017280573025345802, 0.016168193891644478, 0.015888793393969536, 0.014650712721049786, 0.01460124459117651, 0.014409610070288181, 0.014022466726601124, 0.013972110114991665, 0.01343652792274952, 0.01307245809584856, 0.012929637916386127, 0.012862377800047398, 0.012572354637086391, 0.012420950457453728, 0.012411871924996376, 0.012260514311492443, 0.012251731008291245, 0.01176733523607254, 0.01169569045305252, 0.01135852001607418, 0.011110163293778896, 0.010927492752671242, 0.010868788696825504, 0.010690990835428238, 0.010573397390544415, 0.0103828813880682, 0.010066548362374306, 0.009985201060771942, 0.00997332576662302, 0.009853470139205456, 0.009286846965551376, 0.008763132616877556, 0.008509973995387554, 0.008458021096885204, 0.008298778906464577, 0.007780779153108597, 0.007117081433534622, 0.006453457288444042, 0.006074582226574421, 0.005491114221513271, 0.005447309464216232, 0.004856842570006847, 0.0045973630622029305, 0.003202100284397602, 0.0031807846389710903, 0.003069912549108267, 0.002671873662620783]\n",
      "\n",
      "\n",
      "Requirement: Each product must have meaningful and related short and full description associated with the product\n",
      "Labels: ['Product Description', 'Specification', 'Other details', 'FSSAI no', 'Marketed By', 'Features', 'Brand', 'Product Name', 'About', 'SKU Code', 'MRP', 'Scented/ Flavour', 'Images 6', 'Images 9', 'Images 7', 'Images 4', 'Images 8', 'Usage', 'Images 3', 'Images 5', 'Manufacturer', 'COD available (Y/N)', 'Images 10', 'Returnable (Y/N)', 'Theme/ Occasion Type', 'Package Contains', 'L4 Product Enum-Code', 'UPC/EAN', 'Herbal/ Ayurvedic', 'Flavours & Spices', 'Composition', 'UOM', 'Care Instruction', 'L2 Category', 'L0 Domain', 'Benefits', 'Mineral Source', 'L1 Category', 'L3 Sub-Category', 'Recommended Age', 'Pack Size', 'Pack Quantity', 'Images', 'Absorption Duration (in Hrs)', 'Product Quantity', 'Country Of Origin', 'Price', 'Customer Care Contact', 'Time to Ship', 'Net Quantity', 'Caffeine Content', 'Hair Type', 'Ingredients', 'Ready to cook (Y/N)', 'Capacity', 'Rice grain type', 'Preservatives (details)', 'Baby Weight', 'Cancellable (Y/N)', 'Preservatives (Y/N)', 'Ready to eat (Y/N)', 'Images / Video']\n",
      "Scores: [0.05632154271006584, 0.055318888276815414, 0.05476633831858635, 0.054119501262903214, 0.030194880440831184, 0.027131084352731705, 0.025950413197278976, 0.025900982320308685, 0.022745972499251366, 0.022482095286250114, 0.020118283107876778, 0.019652092829346657, 0.019344894215464592, 0.0186177808791399, 0.018559355288743973, 0.018445096909999847, 0.0180758535861969, 0.017979711294174194, 0.0174799095839262, 0.017117489129304886, 0.01686708815395832, 0.016641199588775635, 0.016538085415959358, 0.01612251251935959, 0.01563248597085476, 0.015627343207597733, 0.014810377731919289, 0.014324563555419445, 0.014310130849480629, 0.013847854919731617, 0.013742557726800442, 0.013495877385139465, 0.013068349100649357, 0.012879155576229095, 0.011659425683319569, 0.011173640377819538, 0.011038561351597309, 0.010883371345698833, 0.010446182452142239, 0.010192671790719032, 0.009972183965146542, 0.009773090481758118, 0.009592048823833466, 0.009349285624921322, 0.009156260639429092, 0.00897879246622324, 0.008957167156040668, 0.008724038489162922, 0.008599860593676567, 0.00841814186424017, 0.008253234438598156, 0.008169550448656082, 0.00732860341668129, 0.006952110677957535, 0.006800380069762468, 0.0066095138899981976, 0.005807641427963972, 0.005548636429011822, 0.0050973836332559586, 0.00496596610173583, 0.00466922065243125, 0.004653373267501593]\n",
      "\n",
      "\n",
      "Requirement: Slab options will be shown in a separate slab table for those products who have more than one pricing slab\n",
      "Labels: ['Other details', 'Price', 'Specification', 'FSSAI no', 'About', 'Marketed By', 'SKU Code', 'Usage', 'Recommended Age', 'Manufacturer', 'Images 4', 'Images 6', 'Images 5', 'Images 3', 'Images 7', 'Images 9', 'Images 10', 'Images 8', 'Brand', 'Package Contains', 'MRP', 'Returnable (Y/N)', 'L2 Category', 'L4 Product Enum-Code', 'L1 Category', 'Features', 'Country Of Origin', 'Product Name', 'L0 Domain', 'Images', 'Net Quantity', 'COD available (Y/N)', 'Product Description', 'L3 Sub-Category', 'Images / Video', 'Scented/ Flavour', 'Time to Ship', 'Pack Quantity', 'Absorption Duration (in Hrs)', 'UOM', 'Product Quantity', 'Cancellable (Y/N)', 'Composition', 'Hair Type', 'Pack Size', 'Theme/ Occasion Type', 'Capacity', 'UPC/EAN', 'Mineral Source', 'Care Instruction', 'Benefits', 'Herbal/ Ayurvedic', 'Rice grain type', 'Flavours & Spices', 'Ready to cook (Y/N)', 'Caffeine Content', 'Customer Care Contact', 'Ready to eat (Y/N)', 'Ingredients', 'Preservatives (details)', 'Baby Weight', 'Preservatives (Y/N)']\n",
      "Scores: [0.1228538528084755, 0.07020141184329987, 0.06736281514167786, 0.04191804677248001, 0.04093531519174576, 0.02771804854273796, 0.026876209303736687, 0.025737818330526352, 0.02148251421749592, 0.02062603458762169, 0.019773248583078384, 0.019251687452197075, 0.01860545016825199, 0.01858181320130825, 0.01799231395125389, 0.017814647406339645, 0.01734495721757412, 0.015933752059936523, 0.015814242884516716, 0.015543147921562195, 0.014070536941289902, 0.01404521893709898, 0.01273343525826931, 0.01215766929090023, 0.012134446762502193, 0.01142930518835783, 0.011383271776139736, 0.011313676834106445, 0.011281545273959637, 0.01115728635340929, 0.011063680052757263, 0.010990695096552372, 0.010975546203553677, 0.010423854924738407, 0.010359144769608974, 0.010355346836149693, 0.010188842192292213, 0.009684044867753983, 0.009578562341630459, 0.00868780817836523, 0.008505478501319885, 0.008445978164672852, 0.007727263495326042, 0.007348395884037018, 0.00722200283780694, 0.007220476400107145, 0.007117332424968481, 0.007077907677739859, 0.006991657894104719, 0.006650141440331936, 0.006576251238584518, 0.005986956879496574, 0.005919709801673889, 0.00589641323313117, 0.005794531665742397, 0.005266713444143534, 0.0050731622613966465, 0.004811769817024469, 0.004042176064103842, 0.0038432644214481115, 0.0032477444037795067, 0.0028535090386867523]\n",
      "\n",
      "\n",
      "Requirement: All variants of a product will be shown in a variants section sorted by variant name in a horizontal scrollable section\n",
      "Labels: ['Other details', 'FSSAI no', 'Images 4', 'Features', 'Images 3', 'Images 6', 'About', 'Specification', 'Brand', 'Images 5', 'Images 7', 'Product Name', 'Images 9', 'Images 10', 'Manufacturer', 'Images 8', 'Marketed By', 'Scented/ Flavour', 'SKU Code', 'Product Description', 'Theme/ Occasion Type', 'Usage', 'Package Contains', 'COD available (Y/N)', 'Returnable (Y/N)', 'Mineral Source', 'Recommended Age', 'Flavours & Spices', 'Images', 'Capacity', 'Pack Size', 'L3 Sub-Category', 'Hair Type', 'L0 Domain', 'L2 Category', 'MRP', 'UOM', 'Country Of Origin', 'Pack Quantity', 'Price', 'L1 Category', 'L4 Product Enum-Code', 'Herbal/ Ayurvedic', 'Benefits', 'Time to Ship', 'Composition', 'Caffeine Content', 'Product Quantity', 'UPC/EAN', 'Net Quantity', 'Absorption Duration (in Hrs)', 'Cancellable (Y/N)', 'Care Instruction', 'Images / Video', 'Rice grain type', 'Customer Care Contact', 'Ready to cook (Y/N)', 'Ingredients', 'Preservatives (details)', 'Ready to eat (Y/N)', 'Baby Weight', 'Preservatives (Y/N)']\n",
      "Scores: [0.04303550720214844, 0.03897587209939957, 0.027276864275336266, 0.02670561522245407, 0.02604115940630436, 0.02592948079109192, 0.02505405619740486, 0.024739475920796394, 0.024158863350749016, 0.023301273584365845, 0.023177240043878555, 0.023173164576292038, 0.022841783240437508, 0.02253146283328533, 0.02247779257595539, 0.022177675738930702, 0.021683815866708755, 0.019235609099268913, 0.017901858314871788, 0.017313683405518532, 0.01720980741083622, 0.017198247835040092, 0.015445278957486153, 0.015376193448901176, 0.0153581527993083, 0.015071531757712364, 0.014408832415938377, 0.014232057146728039, 0.014091189019382, 0.013837519101798534, 0.013657023198902607, 0.013643419370055199, 0.013569175265729427, 0.0134807750582695, 0.013447144068777561, 0.013166488148272038, 0.012728674337267876, 0.012339790351688862, 0.012202084995806217, 0.011880062520503998, 0.011686458252370358, 0.01161941234022379, 0.011614371091127396, 0.01142112072557211, 0.011305360123515129, 0.011139986105263233, 0.011097920127213001, 0.01101094949990511, 0.010904796421527863, 0.010629418306052685, 0.010378841310739517, 0.010263526812195778, 0.009816023521125317, 0.009746026247739792, 0.009600360877811909, 0.009396517649292946, 0.009077893570065498, 0.008881094865500927, 0.008058764040470123, 0.007790085393935442, 0.007544997148215771, 0.006940501742064953]\n",
      "\n",
      "\n"
     ]
    }
   ],
   "source": [
    "from transformers import pipeline\n",
    "\n",
    "nlp = pipeline(\"zero-shot-classification\")\n",
    "\n",
    "for requirement in requirements:\n",
    "    new_result = nlp(requirement, candidate_labels)\n",
    "    print(f\"Requirement: {requirement}\")\n",
    "    print(f\"Labels: {new_result['labels']}\")\n",
    "    print(f\"Scores: {new_result['scores']}\")\n",
    "    print(\"\\n\")"
   ]
  },
  {
   "cell_type": "code",
   "execution_count": 79,
   "metadata": {},
   "outputs": [],
   "source": [
    "from openai import OpenAI\n",
    "\n",
    "from dotenv import load_dotenv\n",
    "import os\n",
    "\n",
    "load_dotenv(\n",
    "    dotenv_path='../ops/.env',\n",
    ")\n",
    "\n",
    "api_key = os.getenv('OPENAI_API_KEY')\n",
    "\n",
    "client = OpenAI(api_key=api_key)\n",
    "\n",
    "assistant = client.beta.assistants.create(\n",
    "  instructions=\"Given a list of attributes and a requirement in text format, generate a list with the attributes related to the requirement.\",\n",
    "  model=\"gpt-4\",\n",
    ")"
   ]
  },
  {
   "cell_type": "code",
   "execution_count": 99,
   "metadata": {},
   "outputs": [
    {
     "name": "stdout",
     "output_type": "stream",
     "text": [
      "queued\n"
     ]
    }
   ],
   "source": [
    "sample_requirement = \"Every product must have four product images\"\n",
    "\n",
    "thread = client.beta.threads.create(\n",
    "    messages=[\n",
    "        {\n",
    "            \"role\": \"user\",\n",
    "            \"content\": f\"\"\"This is a requirement - {sample_requirement} and this is the attribute list - {candidate_labels}. Return attributes comma separated. No additional text required.\"\"\",\n",
    "        }\n",
    "    ]\n",
    ")\n",
    "\n",
    "run = client.beta.threads.runs.create(\n",
    "    thread_id=thread.id,\n",
    "    assistant_id=assistant.id\n",
    ")\n",
    "\n",
    "print(run.status)"
   ]
  },
  {
   "cell_type": "code",
   "execution_count": 100,
   "metadata": {},
   "outputs": [
    {
     "name": "stdout",
     "output_type": "stream",
     "text": [
      "completed\n",
      "['images', 'images 3', 'images 4', 'images 5', 'images 6']\n"
     ]
    }
   ],
   "source": [
    "run = client.beta.threads.runs.retrieve(\n",
    "  thread_id=thread.id,\n",
    "  run_id=run.id\n",
    ")\n",
    "\n",
    "print(run.status)\n",
    "\n",
    "if run.status == 'completed':\n",
    "  messages = client.beta.threads.messages.list(\n",
    "      thread_id=thread.id,\n",
    "      )\n",
    "\n",
    "  message = messages.data[0].content[0].text.value\n",
    "\n",
    "  attributes = message.replace(\"'\", \"\").split(',')\n",
    "  attributes = [att.strip() for att in attributes]\n",
    "  print(attributes)"
   ]
  },
  {
   "cell_type": "code",
   "execution_count": 101,
   "metadata": {},
   "outputs": [
    {
     "name": "stdout",
     "output_type": "stream",
     "text": [
      "queued\n"
     ]
    }
   ],
   "source": [
    "thread = client.beta.threads.create(\n",
    "    messages=[\n",
    "        {\n",
    "            \"role\": \"user\",\n",
    "            \"content\": f\"\"\"This is a requirement - {sample_requirement} and this is the attribute list - {attributes}. The requirment is satisfied based on the given column names. True or False and why ?.\"\"\",\n",
    "        }\n",
    "    ]\n",
    ")\n",
    "\n",
    "run = client.beta.threads.runs.create(\n",
    "    thread_id=thread.id,\n",
    "    assistant_id=assistant.id\n",
    ")\n",
    "\n",
    "print(run.status)"
   ]
  },
  {
   "cell_type": "code",
   "execution_count": 103,
   "metadata": {},
   "outputs": [
    {
     "name": "stdout",
     "output_type": "stream",
     "text": [
      "completed\n",
      "True, because there are four attributes related to images (images, images 3, images 4, images 5) which meets the requirement of every product having four product images.\n"
     ]
    }
   ],
   "source": [
    "run = client.beta.threads.runs.retrieve(\n",
    "  thread_id=thread.id,\n",
    "  run_id=run.id\n",
    ")\n",
    "\n",
    "print(run.status)\n",
    "\n",
    "if run.status == 'completed':\n",
    "  messages = client.beta.threads.messages.list(\n",
    "      thread_id=thread.id,\n",
    "      )\n",
    "\n",
    "  message = messages.data[0].content[0].text.value\n",
    "\n",
    "  print(message)"
   ]
  }
 ],
 "metadata": {
  "kernelspec": {
   "display_name": "llm",
   "language": "python",
   "name": "python3"
  },
  "language_info": {
   "codemirror_mode": {
    "name": "ipython",
    "version": 3
   },
   "file_extension": ".py",
   "mimetype": "text/x-python",
   "name": "python",
   "nbconvert_exporter": "python",
   "pygments_lexer": "ipython3",
   "version": "3.10.13"
  }
 },
 "nbformat": 4,
 "nbformat_minor": 2
}

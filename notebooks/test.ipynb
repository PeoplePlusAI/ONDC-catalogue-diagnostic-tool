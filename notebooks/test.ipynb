{
 "cells": [
  {
   "cell_type": "code",
   "execution_count": 3,
   "metadata": {},
   "outputs": [],
   "source": [
    "import pandas as pd\n",
    "\n",
    "file_path = '../data/All-Purpose Cleaners.xlsx'\n",
    "\n",
    "# Read the Excel file\n",
    "df = pd.read_excel(file_path)\n",
    "\n",
    "# Now df is a DataFrame containing the data from your Excel file\n",
    "\n",
    "df_dict = df.to_dict()\n",
    "\n",
    "df.to_csv('../data/All-Purpose Cleaners.csv', index=False)\n"
   ]
  },
  {
   "cell_type": "code",
   "execution_count": 5,
   "metadata": {},
   "outputs": [],
   "source": [
    "from openai import OpenAI\n",
    "from dotenv import load_dotenv\n",
    "import os\n",
    "\n",
    "load_dotenv(\n",
    "    dotenv_path='../ops/.env',\n",
    ")\n",
    "\n",
    "api_key = os.getenv('OPENAI_API_KEY')\n",
    "\n",
    "client = OpenAI(api_key=api_key)\n",
    "\n"
   ]
  },
  {
   "cell_type": "code",
   "execution_count": 7,
   "metadata": {},
   "outputs": [
    {
     "name": "stdout",
     "output_type": "stream",
     "text": [
      "file-vIYUwwf8WY5a9MHUBNDSrqxV\n"
     ]
    }
   ],
   "source": [
    "file = client.files.create(\n",
    "  file=open(\"../data/All-Purpose Cleaners.csv\", \"rb\"),\n",
    "  purpose='assistants'\n",
    ")\n",
    "\n",
    "print(file.id)"
   ]
  },
  {
   "cell_type": "code",
   "execution_count": 15,
   "metadata": {},
   "outputs": [],
   "source": [
    "assistant = client.beta.assistants.create(\n",
    "  instructions=\"You are a data analyst assistant when given a requirement and a csv file analyse the csv file and generate a report with the requirements and number of rows that satisfies the requirement for each requirements.\",\n",
    "  model=\"gpt-4-1106-preview\",\n",
    "  tools=[{\"type\": \"code_interpreter\"}],\n",
    "  file_ids=[file.id]\n",
    ")"
   ]
  },
  {
   "cell_type": "code",
   "execution_count": 16,
   "metadata": {},
   "outputs": [],
   "source": [
    "thread = client.beta.threads.create(\n",
    "    messages=[\n",
    "        {\n",
    "            \"role\": \"user\",\n",
    "            \"content\": \"\"\"This is the requirement. 1. Product name must include the brand name, actual name and size of the product as part\n",
    "of the overall name e.g. “LaxmiBhog atta 1KG bag” 2. Every product must have high quality images (preferably 500x500 px) 3. Each product must have meaningful and related short description column and full description column associated\n",
    "with the product 4. Slab options will be shown in a separate slab table for those products who have more than one pricing slab 5. All variants of a product will be shown in a variants section sorted by variant name in a horizontal scrollable section\n",
    "\"\"\", \"file_ids\": [file.id]\n",
    "        }\n",
    "    ]\n",
    ")"
   ]
  },
  {
   "cell_type": "code",
   "execution_count": 17,
   "metadata": {},
   "outputs": [
    {
     "name": "stdout",
     "output_type": "stream",
     "text": [
      "queued\n"
     ]
    }
   ],
   "source": [
    "run = client.beta.threads.runs.create(\n",
    "    thread_id=thread.id,\n",
    "    assistant_id=assistant.id\n",
    ")\n",
    "\n",
    "print(run.status)"
   ]
  },
  {
   "cell_type": "code",
   "execution_count": 24,
   "metadata": {},
   "outputs": [
    {
     "name": "stdout",
     "output_type": "stream",
     "text": [
      "completed\n"
     ]
    }
   ],
   "source": [
    "run = client.beta.threads.runs.retrieve(\n",
    "  thread_id=thread.id,\n",
    "  run_id=run.id\n",
    ")\n",
    "\n",
    "print(run.status)"
   ]
  },
  {
   "cell_type": "code",
   "execution_count": 25,
   "metadata": {},
   "outputs": [
    {
     "name": "stdout",
     "output_type": "stream",
     "text": [
      "The count of rows satisfying each requirement is as follows:\n",
      "\n",
      "- **Requirement 1** (Product name includes brand, actual name, and size): 580 rows meet this condition.\n",
      "- **Requirement 2** (Product has high-quality images): 580 rows have a URL in the 'Images' column, which we're assuming indicates the presence of an image.\n",
      "- **Requirement 3** (Each product has meaningful and related short and full descriptions): Only 1 row meets this condition based on our assumptions about the 'Features' and 'About' columns.\n",
      "- **Requirement 4** (Slab options in a separate table for products with multiple pricing slabs): We cannot validate this requirement with the given data, so the count is 0.\n",
      "- **Requirement 5** (All variants of a product are shown): Again, we cannot validate this requirement with the given data, so the count is 0.\n",
      "\n",
      "Here's a random sample of image URLs from the 'Images' column for your reference:\n",
      "\n",
      "```\n",
      "315    https://datalabs.siva3.io/image/Eunimart_groce...\n",
      "268    https://datalabs.siva3.io/image/Eunimart_groce...\n",
      "49     https://www.bigbasket.com/media/uploads/p/xxl/...\n",
      "339    https://datalabs.siva3.io/image/Eunimart_groce...\n",
      "549    https://datalabs.siva3.io/image/Eunimart_groce...\n",
      "```\n",
      "\n",
      "Please note that these numbers are based on assumptions due to limited data and potentially incomplete understanding of all columns. More accurate analysis would likely require additional information or access to more detailed data regarding the products, their descriptions, images, slab pricing, and variants.\n"
     ]
    }
   ],
   "source": [
    "messages = client.beta.threads.messages.list(\n",
    "    thread_id=thread.id,\n",
    "    )\n",
    "\n",
    "print(messages.data[0].content[0].text.value)"
   ]
  }
 ],
 "metadata": {
  "kernelspec": {
   "display_name": "llm",
   "language": "python",
   "name": "python3"
  },
  "language_info": {
   "codemirror_mode": {
    "name": "ipython",
    "version": 3
   },
   "file_extension": ".py",
   "mimetype": "text/x-python",
   "name": "python",
   "nbconvert_exporter": "python",
   "pygments_lexer": "ipython3",
   "version": "3.10.13"
  }
 },
 "nbformat": 4,
 "nbformat_minor": 2
}

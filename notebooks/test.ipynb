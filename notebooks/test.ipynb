{
 "cells": [
  {
   "cell_type": "code",
   "execution_count": 1,
   "metadata": {},
   "outputs": [],
   "source": [
    "import pandas as pd\n",
    "\n",
    "file_path = 'data/All-Purpose Cleaners.xlsx'\n",
    "\n",
    "# Read the Excel file\n",
    "df = pd.read_excel(file_path)\n",
    "\n",
    "# Now df is a DataFrame containing the data from your Excel file\n",
    "\n",
    "df_dict = df.to_dict()\n",
    "\n",
    "df.to_csv('data/All-Purpose Cleaners.csv', index=False)\n"
   ]
  },
  {
   "cell_type": "code",
   "execution_count": 2,
   "metadata": {},
   "outputs": [],
   "source": [
    "from openai import OpenAI\n",
    "from dotenv import load_dotenv\n",
    "import os\n",
    "\n",
    "load_dotenv(\n",
    "    dotenv_path='ops/.env',\n",
    ")\n",
    "\n",
    "api_key = os.getenv('OPENAI_API_KEY')\n",
    "\n",
    "client = OpenAI(api_key=api_key)\n",
    "\n"
   ]
  },
  {
   "cell_type": "code",
   "execution_count": 3,
   "metadata": {},
   "outputs": [
    {
     "name": "stdout",
     "output_type": "stream",
     "text": [
      "file-11ISqHilO8VxnUfu8VT0faD0\n"
     ]
    }
   ],
   "source": [
    "file = client.files.create(\n",
    "  file=open(\"data/All-Purpose Cleaners.csv\", \"rb\"),\n",
    "  purpose='assistants'\n",
    ")\n",
    "\n",
    "print(file.id)"
   ]
  },
  {
   "cell_type": "code",
   "execution_count": 4,
   "metadata": {},
   "outputs": [],
   "source": [
    "assistant = client.beta.assistants.create(\n",
    "  instructions=\"You are a data analyst assistant when given a requirement and a csv file analyse the csv file and answer if the requirement is satisfied.\",\n",
    "  model=\"gpt-4-1106-preview\",\n",
    "  tools=[{\"type\": \"code_interpreter\"}],\n",
    "  file_ids=[file.id]\n",
    ")"
   ]
  },
  {
   "cell_type": "code",
   "execution_count": 5,
   "metadata": {},
   "outputs": [],
   "source": [
    "thread = client.beta.threads.create(\n",
    "    messages=[\n",
    "        {\n",
    "            \"role\": \"user\",\n",
    "            \"content\": \"\"\"This is the requirement. 1. Product name must include the brand name, actual name and size of the product as part\n",
    "of the overall name e.g. “LaxmiBhog atta 1KG bag” 2. Every product must have high quality images (preferably 500x500 px) 3. Each product must have meaningful and related short description column and full description column associated\n",
    "with the product 4. Slab options will be shown in a separate slab table for those products who have more than one pricing slab 5. All variants of a product will be shown in a variants section sorted by variant name in a horizontal scrollable section\n",
    "\"\"\", \"file_ids\": [file.id]\n",
    "        }\n",
    "    ]\n",
    ")"
   ]
  },
  {
   "cell_type": "code",
   "execution_count": 6,
   "metadata": {},
   "outputs": [
    {
     "name": "stdout",
     "output_type": "stream",
     "text": [
      "queued\n"
     ]
    }
   ],
   "source": [
    "run = client.beta.threads.runs.create(\n",
    "    thread_id=thread.id,\n",
    "    assistant_id=assistant.id\n",
    ")\n",
    "\n",
    "print(run.status)"
   ]
  },
  {
   "cell_type": "code",
   "execution_count": 14,
   "metadata": {},
   "outputs": [
    {
     "name": "stdout",
     "output_type": "stream",
     "text": [
      "completed\n"
     ]
    }
   ],
   "source": [
    "run = client.beta.threads.runs.retrieve(\n",
    "  thread_id=thread.id,\n",
    "  run_id=run.id\n",
    ")\n",
    "\n",
    "print(run.status)"
   ]
  },
  {
   "cell_type": "code",
   "execution_count": 15,
   "metadata": {},
   "outputs": [
    {
     "name": "stdout",
     "output_type": "stream",
     "text": [
      "The dataset indicates that there is only one product group (identified by 'L4 Product Enum-Code'), which has multiple variants based on the 'Product Quantity'. This product group contains a broad array of variants, and I have provided a sorted example of these variants.\n",
      "\n",
      "However, since we're working with a CSV file, we cannot verify the user interface elements such as a horizontal scrollable section that might be present on a webpage or a software application.\n",
      "\n",
      "Still, the analysis shows that:\n",
      "\n",
      "- There's only one product group in the dataset.\n",
      "- This product group has variants based on 'Product Quantity'.\n",
      "- An example product group has its variants listed sorted alphabetically, exemplified by the `example_variants_sorted` list provided in the analysis.\n",
      "\n",
      "In summary, while some of the requirements seem to be initially met based on the dataset's structure, the dataset does not entirely satisfy the requirement as stated. The following points summarize the findings based on each requirement:\n",
      "\n",
      "1. All product names seem to follow the necessary format.\n",
      "2. All products have at least one image URL linked (image resolutions couldn't be verified).\n",
      "3. Most products are missing meaningful and related short and full descriptions.\n",
      "4. The dataset does not appear to have a distinctly separate slab table, but there is a product group with pricing variations.\n",
      "5. Product variants are listed, and at least in the given data, they appear to be sorted by name, but the horizontal scrollable section cannot be verified in a CSV file format.\n",
      "\n",
      "Please let me know if there's anything specific you would like to explore or verify further.\n"
     ]
    }
   ],
   "source": [
    "messages = client.beta.threads.messages.list(\n",
    "    thread_id=thread.id,\n",
    "    )\n",
    "\n",
    "print(messages.data[0].content[0].text.value)"
   ]
  }
 ],
 "metadata": {
  "kernelspec": {
   "display_name": "llm",
   "language": "python",
   "name": "python3"
  },
  "language_info": {
   "codemirror_mode": {
    "name": "ipython",
    "version": 3
   },
   "file_extension": ".py",
   "mimetype": "text/x-python",
   "name": "python",
   "nbconvert_exporter": "python",
   "pygments_lexer": "ipython3",
   "version": "3.10.13"
  }
 },
 "nbformat": 4,
 "nbformat_minor": 2
}
